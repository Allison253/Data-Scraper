{
 "cells": [
  {
   "cell_type": "markdown",
   "metadata": {},
   "source": [
    "Intent of this workbook is to pull covid data, population data, and election data related to counties in georgia and do some brief investigation"
   ]
  },
  {
   "cell_type": "markdown",
   "metadata": {},
   "source": [
    "# Get URL"
   ]
  },
  {
   "cell_type": "code",
   "execution_count": 452,
   "metadata": {},
   "outputs": [],
   "source": [
    "url='https://www.nytimes.com/interactive/2021/us/georgia-covid-cases.html'"
   ]
  },
  {
   "cell_type": "code",
   "execution_count": 453,
   "metadata": {},
   "outputs": [
    {
     "name": "stdout",
     "output_type": "stream",
     "text": [
      "https://www.nytimes.com/interactive/2021/us/georgia-covid-cases.html\n"
     ]
    }
   ],
   "source": [
    "print(url)"
   ]
  },
  {
   "cell_type": "markdown",
   "metadata": {},
   "source": [
    "\n",
    "# Get website as webdriver and grab dataframe"
   ]
  },
  {
   "cell_type": "code",
   "execution_count": 454,
   "metadata": {},
   "outputs": [],
   "source": [
    "import selenium\n",
    "from selenium import webdriver as wb\n",
    "webD=wb.Chrome('chromedriver.exe')\n",
    "webD.get(url)"
   ]
  },
  {
   "cell_type": "markdown",
   "metadata": {},
   "source": [
    "Grab button to show all county numbers"
   ]
  },
  {
   "cell_type": "code",
   "execution_count": 455,
   "metadata": {},
   "outputs": [],
   "source": [
    "from selenium.webdriver.common.keys import Keys\n",
    "from selenium.webdriver.common.action_chains import ActionChains"
   ]
  },
  {
   "cell_type": "code",
   "execution_count": 456,
   "metadata": {},
   "outputs": [],
   "source": [
    "button=webD.find_element_by_xpath('//*[@id=\"county-trends\"]/button')"
   ]
  },
  {
   "cell_type": "code",
   "execution_count": 457,
   "metadata": {},
   "outputs": [],
   "source": [
    "element=webD.find_element_by_xpath('//*[@id=\"county-trends\"]/button') # element to move to before clicking button"
   ]
  },
  {
   "cell_type": "code",
   "execution_count": 474,
   "metadata": {},
   "outputs": [],
   "source": [
    "try:\n",
    "    html = webD.find_element_by_tag_name('html')\n",
    "    actions=ActionChains(webD)\n",
    "    actions.move_to_element(element).perform()\n",
    "    html.send_keys(Keys.DOWN)#must move down four spaces after finding element\n",
    "    html.send_keys(Keys.DOWN)\n",
    "    html.send_keys(Keys.DOWN)\n",
    "    html.send_keys(Keys.DOWN)\n",
    "    button.click()\n",
    "except:\n",
    "    print('Could not find button, try scrolling in NYtimes page until you see the \"show all\" button')"
   ]
  },
  {
   "cell_type": "code",
   "execution_count": null,
   "metadata": {},
   "outputs": [],
   "source": []
  },
  {
   "cell_type": "code",
   "execution_count": null,
   "metadata": {},
   "outputs": [],
   "source": []
  },
  {
   "cell_type": "code",
   "execution_count": null,
   "metadata": {},
   "outputs": [],
   "source": []
  },
  {
   "cell_type": "markdown",
   "metadata": {},
   "source": [
    "Import Pandas"
   ]
  },
  {
   "cell_type": "code",
   "execution_count": 459,
   "metadata": {},
   "outputs": [],
   "source": [
    "import pandas as pd"
   ]
  },
  {
   "cell_type": "code",
   "execution_count": 475,
   "metadata": {},
   "outputs": [],
   "source": [
    "#grab page source with open table\n",
    "html=webD.page_source"
   ]
  },
  {
   "cell_type": "code",
   "execution_count": 476,
   "metadata": {},
   "outputs": [],
   "source": [
    "df = pd.read_html(html, header = 0)"
   ]
  },
  {
   "cell_type": "code",
   "execution_count": 477,
   "metadata": {},
   "outputs": [
    {
     "data": {
      "text/html": [
       "<div>\n",
       "<style scoped>\n",
       "    .dataframe tbody tr th:only-of-type {\n",
       "        vertical-align: middle;\n",
       "    }\n",
       "\n",
       "    .dataframe tbody tr th {\n",
       "        vertical-align: top;\n",
       "    }\n",
       "\n",
       "    .dataframe thead th {\n",
       "        text-align: right;\n",
       "    }\n",
       "</style>\n",
       "<table border=\"1\" class=\"dataframe\">\n",
       "  <thead>\n",
       "    <tr style=\"text-align: right;\">\n",
       "      <th></th>\n",
       "      <th>Unnamed: 0</th>\n",
       "      <th>Cases Daily Avg.</th>\n",
       "      <th>Per 100,000</th>\n",
       "      <th>14-day change</th>\n",
       "      <th>Hospitalized Daily Avg.</th>\n",
       "      <th>Per 100,000.1</th>\n",
       "      <th>14-day change.1</th>\n",
       "      <th>Deaths Daily Avg.</th>\n",
       "      <th>Per 100,000.2</th>\n",
       "      <th>Fully Vaccinated</th>\n",
       "    </tr>\n",
       "  </thead>\n",
       "  <tbody>\n",
       "    <tr>\n",
       "      <th>0</th>\n",
       "      <td>Georgia</td>\n",
       "      <td>1332</td>\n",
       "      <td>13</td>\n",
       "      <td>+1%</td>\n",
       "      <td>1531</td>\n",
       "      <td>14</td>\n",
       "      <td>+15%</td>\n",
       "      <td>28.7</td>\n",
       "      <td>0.27</td>\n",
       "      <td>21%</td>\n",
       "    </tr>\n",
       "    <tr>\n",
       "      <th>1</th>\n",
       "      <td>Chattahoochee ›</td>\n",
       "      <td>6</td>\n",
       "      <td>54</td>\n",
       "      <td>–74%</td>\n",
       "      <td>47</td>\n",
       "      <td>—</td>\n",
       "      <td>+16%</td>\n",
       "      <td>0.0</td>\n",
       "      <td>—</td>\n",
       "      <td>—</td>\n",
       "    </tr>\n",
       "    <tr>\n",
       "      <th>2</th>\n",
       "      <td>Screven ›</td>\n",
       "      <td>4</td>\n",
       "      <td>26</td>\n",
       "      <td>+83%</td>\n",
       "      <td>3</td>\n",
       "      <td>—</td>\n",
       "      <td>–55%</td>\n",
       "      <td>0.1</td>\n",
       "      <td>1.02</td>\n",
       "      <td>—</td>\n",
       "    </tr>\n",
       "    <tr>\n",
       "      <th>3</th>\n",
       "      <td>Catoosa ›</td>\n",
       "      <td>15</td>\n",
       "      <td>22</td>\n",
       "      <td>+14%</td>\n",
       "      <td>101</td>\n",
       "      <td>—</td>\n",
       "      <td>+6%</td>\n",
       "      <td>0.1</td>\n",
       "      <td>0.21</td>\n",
       "      <td>—</td>\n",
       "    </tr>\n",
       "    <tr>\n",
       "      <th>4</th>\n",
       "      <td>Glynn ›</td>\n",
       "      <td>18</td>\n",
       "      <td>21</td>\n",
       "      <td>+133%</td>\n",
       "      <td>9</td>\n",
       "      <td>—</td>\n",
       "      <td>–7%</td>\n",
       "      <td>0.1</td>\n",
       "      <td>0.17</td>\n",
       "      <td>—</td>\n",
       "    </tr>\n",
       "    <tr>\n",
       "      <th>...</th>\n",
       "      <td>...</td>\n",
       "      <td>...</td>\n",
       "      <td>...</td>\n",
       "      <td>...</td>\n",
       "      <td>...</td>\n",
       "      <td>...</td>\n",
       "      <td>...</td>\n",
       "      <td>...</td>\n",
       "      <td>...</td>\n",
       "      <td>...</td>\n",
       "    </tr>\n",
       "    <tr>\n",
       "      <th>155</th>\n",
       "      <td>Clay ›</td>\n",
       "      <td>0</td>\n",
       "      <td>—</td>\n",
       "      <td>–100%</td>\n",
       "      <td>20</td>\n",
       "      <td>—</td>\n",
       "      <td>–24%</td>\n",
       "      <td>0.0</td>\n",
       "      <td>—</td>\n",
       "      <td>—</td>\n",
       "    </tr>\n",
       "    <tr>\n",
       "      <th>156</th>\n",
       "      <td>Glascock ›</td>\n",
       "      <td>0</td>\n",
       "      <td>—</td>\n",
       "      <td>–100%</td>\n",
       "      <td>51</td>\n",
       "      <td>—</td>\n",
       "      <td>+13%</td>\n",
       "      <td>0.0</td>\n",
       "      <td>—</td>\n",
       "      <td>—</td>\n",
       "    </tr>\n",
       "    <tr>\n",
       "      <th>157</th>\n",
       "      <td>Quitman ›</td>\n",
       "      <td>0</td>\n",
       "      <td>—</td>\n",
       "      <td>—</td>\n",
       "      <td>0</td>\n",
       "      <td>—</td>\n",
       "      <td>–100%</td>\n",
       "      <td>0.0</td>\n",
       "      <td>—</td>\n",
       "      <td>—</td>\n",
       "    </tr>\n",
       "    <tr>\n",
       "      <th>158</th>\n",
       "      <td>Taliaferro ›</td>\n",
       "      <td>0</td>\n",
       "      <td>—</td>\n",
       "      <td>–100%</td>\n",
       "      <td>0</td>\n",
       "      <td>—</td>\n",
       "      <td>—</td>\n",
       "      <td>0.0</td>\n",
       "      <td>—</td>\n",
       "      <td>—</td>\n",
       "    </tr>\n",
       "    <tr>\n",
       "      <th>159</th>\n",
       "      <td>Wilcox ›</td>\n",
       "      <td>0</td>\n",
       "      <td>—</td>\n",
       "      <td>–100%</td>\n",
       "      <td>7</td>\n",
       "      <td>—</td>\n",
       "      <td>+42%</td>\n",
       "      <td>0.0</td>\n",
       "      <td>—</td>\n",
       "      <td>—</td>\n",
       "    </tr>\n",
       "  </tbody>\n",
       "</table>\n",
       "<p>160 rows × 10 columns</p>\n",
       "</div>"
      ],
      "text/plain": [
       "          Unnamed: 0 Cases Daily Avg. Per 100,000 14-day change  \\\n",
       "0            Georgia             1332          13           +1%   \n",
       "1    Chattahoochee ›                6          54          –74%   \n",
       "2          Screven ›                4          26          +83%   \n",
       "3          Catoosa ›               15          22          +14%   \n",
       "4            Glynn ›               18          21         +133%   \n",
       "..               ...              ...         ...           ...   \n",
       "155           Clay ›                0           —         –100%   \n",
       "156       Glascock ›                0           —         –100%   \n",
       "157        Quitman ›                0           —             —   \n",
       "158     Taliaferro ›                0           —         –100%   \n",
       "159         Wilcox ›                0           —         –100%   \n",
       "\n",
       "    Hospitalized Daily Avg. Per 100,000.1 14-day change.1  Deaths Daily Avg.  \\\n",
       "0                      1531            14            +15%               28.7   \n",
       "1                        47             —            +16%                0.0   \n",
       "2                         3             —            –55%                0.1   \n",
       "3                       101             —             +6%                0.1   \n",
       "4                         9             —             –7%                0.1   \n",
       "..                      ...           ...             ...                ...   \n",
       "155                      20             —            –24%                0.0   \n",
       "156                      51             —            +13%                0.0   \n",
       "157                       0             —           –100%                0.0   \n",
       "158                       0             —               —                0.0   \n",
       "159                       7             —            +42%                0.0   \n",
       "\n",
       "    Per 100,000.2 Fully Vaccinated  \n",
       "0            0.27              21%  \n",
       "1               —                —  \n",
       "2            1.02                —  \n",
       "3            0.21                —  \n",
       "4            0.17                —  \n",
       "..            ...              ...  \n",
       "155             —                —  \n",
       "156             —                —  \n",
       "157             —                —  \n",
       "158             —                —  \n",
       "159             —                —  \n",
       "\n",
       "[160 rows x 10 columns]"
      ]
     },
     "execution_count": 477,
     "metadata": {},
     "output_type": "execute_result"
    }
   ],
   "source": [
    "df[1]"
   ]
  },
  {
   "cell_type": "code",
   "execution_count": 478,
   "metadata": {},
   "outputs": [],
   "source": [
    "casesdf=df[1]"
   ]
  },
  {
   "cell_type": "code",
   "execution_count": 479,
   "metadata": {},
   "outputs": [
    {
     "data": {
      "text/html": [
       "<div>\n",
       "<style scoped>\n",
       "    .dataframe tbody tr th:only-of-type {\n",
       "        vertical-align: middle;\n",
       "    }\n",
       "\n",
       "    .dataframe tbody tr th {\n",
       "        vertical-align: top;\n",
       "    }\n",
       "\n",
       "    .dataframe thead th {\n",
       "        text-align: right;\n",
       "    }\n",
       "</style>\n",
       "<table border=\"1\" class=\"dataframe\">\n",
       "  <thead>\n",
       "    <tr style=\"text-align: right;\">\n",
       "      <th></th>\n",
       "      <th>Unnamed: 0</th>\n",
       "      <th>Cases Daily Avg.</th>\n",
       "      <th>Per 100,000</th>\n",
       "      <th>14-day change</th>\n",
       "      <th>Hospitalized Daily Avg.</th>\n",
       "      <th>Per 100,000.1</th>\n",
       "      <th>14-day change.1</th>\n",
       "      <th>Deaths Daily Avg.</th>\n",
       "      <th>Per 100,000.2</th>\n",
       "      <th>Fully Vaccinated</th>\n",
       "    </tr>\n",
       "  </thead>\n",
       "  <tbody>\n",
       "    <tr>\n",
       "      <th>0</th>\n",
       "      <td>Georgia</td>\n",
       "      <td>1332</td>\n",
       "      <td>13</td>\n",
       "      <td>+1%</td>\n",
       "      <td>1531</td>\n",
       "      <td>14</td>\n",
       "      <td>+15%</td>\n",
       "      <td>28.7</td>\n",
       "      <td>0.27</td>\n",
       "      <td>21%</td>\n",
       "    </tr>\n",
       "    <tr>\n",
       "      <th>1</th>\n",
       "      <td>Chattahoochee ›</td>\n",
       "      <td>6</td>\n",
       "      <td>54</td>\n",
       "      <td>–74%</td>\n",
       "      <td>47</td>\n",
       "      <td>—</td>\n",
       "      <td>+16%</td>\n",
       "      <td>0.0</td>\n",
       "      <td>—</td>\n",
       "      <td>—</td>\n",
       "    </tr>\n",
       "    <tr>\n",
       "      <th>2</th>\n",
       "      <td>Screven ›</td>\n",
       "      <td>4</td>\n",
       "      <td>26</td>\n",
       "      <td>+83%</td>\n",
       "      <td>3</td>\n",
       "      <td>—</td>\n",
       "      <td>–55%</td>\n",
       "      <td>0.1</td>\n",
       "      <td>1.02</td>\n",
       "      <td>—</td>\n",
       "    </tr>\n",
       "    <tr>\n",
       "      <th>3</th>\n",
       "      <td>Catoosa ›</td>\n",
       "      <td>15</td>\n",
       "      <td>22</td>\n",
       "      <td>+14%</td>\n",
       "      <td>101</td>\n",
       "      <td>—</td>\n",
       "      <td>+6%</td>\n",
       "      <td>0.1</td>\n",
       "      <td>0.21</td>\n",
       "      <td>—</td>\n",
       "    </tr>\n",
       "    <tr>\n",
       "      <th>4</th>\n",
       "      <td>Glynn ›</td>\n",
       "      <td>18</td>\n",
       "      <td>21</td>\n",
       "      <td>+133%</td>\n",
       "      <td>9</td>\n",
       "      <td>—</td>\n",
       "      <td>–7%</td>\n",
       "      <td>0.1</td>\n",
       "      <td>0.17</td>\n",
       "      <td>—</td>\n",
       "    </tr>\n",
       "    <tr>\n",
       "      <th>...</th>\n",
       "      <td>...</td>\n",
       "      <td>...</td>\n",
       "      <td>...</td>\n",
       "      <td>...</td>\n",
       "      <td>...</td>\n",
       "      <td>...</td>\n",
       "      <td>...</td>\n",
       "      <td>...</td>\n",
       "      <td>...</td>\n",
       "      <td>...</td>\n",
       "    </tr>\n",
       "    <tr>\n",
       "      <th>155</th>\n",
       "      <td>Clay ›</td>\n",
       "      <td>0</td>\n",
       "      <td>—</td>\n",
       "      <td>–100%</td>\n",
       "      <td>20</td>\n",
       "      <td>—</td>\n",
       "      <td>–24%</td>\n",
       "      <td>0.0</td>\n",
       "      <td>—</td>\n",
       "      <td>—</td>\n",
       "    </tr>\n",
       "    <tr>\n",
       "      <th>156</th>\n",
       "      <td>Glascock ›</td>\n",
       "      <td>0</td>\n",
       "      <td>—</td>\n",
       "      <td>–100%</td>\n",
       "      <td>51</td>\n",
       "      <td>—</td>\n",
       "      <td>+13%</td>\n",
       "      <td>0.0</td>\n",
       "      <td>—</td>\n",
       "      <td>—</td>\n",
       "    </tr>\n",
       "    <tr>\n",
       "      <th>157</th>\n",
       "      <td>Quitman ›</td>\n",
       "      <td>0</td>\n",
       "      <td>—</td>\n",
       "      <td>—</td>\n",
       "      <td>0</td>\n",
       "      <td>—</td>\n",
       "      <td>–100%</td>\n",
       "      <td>0.0</td>\n",
       "      <td>—</td>\n",
       "      <td>—</td>\n",
       "    </tr>\n",
       "    <tr>\n",
       "      <th>158</th>\n",
       "      <td>Taliaferro ›</td>\n",
       "      <td>0</td>\n",
       "      <td>—</td>\n",
       "      <td>–100%</td>\n",
       "      <td>0</td>\n",
       "      <td>—</td>\n",
       "      <td>—</td>\n",
       "      <td>0.0</td>\n",
       "      <td>—</td>\n",
       "      <td>—</td>\n",
       "    </tr>\n",
       "    <tr>\n",
       "      <th>159</th>\n",
       "      <td>Wilcox ›</td>\n",
       "      <td>0</td>\n",
       "      <td>—</td>\n",
       "      <td>–100%</td>\n",
       "      <td>7</td>\n",
       "      <td>—</td>\n",
       "      <td>+42%</td>\n",
       "      <td>0.0</td>\n",
       "      <td>—</td>\n",
       "      <td>—</td>\n",
       "    </tr>\n",
       "  </tbody>\n",
       "</table>\n",
       "<p>160 rows × 10 columns</p>\n",
       "</div>"
      ],
      "text/plain": [
       "          Unnamed: 0 Cases Daily Avg. Per 100,000 14-day change  \\\n",
       "0            Georgia             1332          13           +1%   \n",
       "1    Chattahoochee ›                6          54          –74%   \n",
       "2          Screven ›                4          26          +83%   \n",
       "3          Catoosa ›               15          22          +14%   \n",
       "4            Glynn ›               18          21         +133%   \n",
       "..               ...              ...         ...           ...   \n",
       "155           Clay ›                0           —         –100%   \n",
       "156       Glascock ›                0           —         –100%   \n",
       "157        Quitman ›                0           —             —   \n",
       "158     Taliaferro ›                0           —         –100%   \n",
       "159         Wilcox ›                0           —         –100%   \n",
       "\n",
       "    Hospitalized Daily Avg. Per 100,000.1 14-day change.1  Deaths Daily Avg.  \\\n",
       "0                      1531            14            +15%               28.7   \n",
       "1                        47             —            +16%                0.0   \n",
       "2                         3             —            –55%                0.1   \n",
       "3                       101             —             +6%                0.1   \n",
       "4                         9             —             –7%                0.1   \n",
       "..                      ...           ...             ...                ...   \n",
       "155                      20             —            –24%                0.0   \n",
       "156                      51             —            +13%                0.0   \n",
       "157                       0             —           –100%                0.0   \n",
       "158                       0             —               —                0.0   \n",
       "159                       7             —            +42%                0.0   \n",
       "\n",
       "    Per 100,000.2 Fully Vaccinated  \n",
       "0            0.27              21%  \n",
       "1               —                —  \n",
       "2            1.02                —  \n",
       "3            0.21                —  \n",
       "4            0.17                —  \n",
       "..            ...              ...  \n",
       "155             —                —  \n",
       "156             —                —  \n",
       "157             —                —  \n",
       "158             —                —  \n",
       "159             —                —  \n",
       "\n",
       "[160 rows x 10 columns]"
      ]
     },
     "execution_count": 479,
     "metadata": {},
     "output_type": "execute_result"
    }
   ],
   "source": [
    "casesdf"
   ]
  },
  {
   "cell_type": "markdown",
   "metadata": {},
   "source": [
    "As we are only investigating the cases per 100,000, we can drop the rest of the columns"
   ]
  },
  {
   "cell_type": "code",
   "execution_count": 480,
   "metadata": {},
   "outputs": [],
   "source": [
    "casesdf=casesdf.drop(['Cases Daily Avg.', '14-day change', 'Hospitalized Daily Avg.', \n",
    "                      'Per 100,000.1', '14-day change.1','Deaths Daily Avg.',\n",
    "                      'Per 100,000.2','Fully Vaccinated'],axis=1)"
   ]
  },
  {
   "cell_type": "markdown",
   "metadata": {},
   "source": [
    "Drop the first row for the state to leave only the county cases"
   ]
  },
  {
   "cell_type": "code",
   "execution_count": 481,
   "metadata": {},
   "outputs": [],
   "source": [
    "casesdf=casesdf[1:]"
   ]
  },
  {
   "cell_type": "code",
   "execution_count": 482,
   "metadata": {},
   "outputs": [
    {
     "data": {
      "text/html": [
       "<div>\n",
       "<style scoped>\n",
       "    .dataframe tbody tr th:only-of-type {\n",
       "        vertical-align: middle;\n",
       "    }\n",
       "\n",
       "    .dataframe tbody tr th {\n",
       "        vertical-align: top;\n",
       "    }\n",
       "\n",
       "    .dataframe thead th {\n",
       "        text-align: right;\n",
       "    }\n",
       "</style>\n",
       "<table border=\"1\" class=\"dataframe\">\n",
       "  <thead>\n",
       "    <tr style=\"text-align: right;\">\n",
       "      <th></th>\n",
       "      <th>Unnamed: 0</th>\n",
       "      <th>Per 100,000</th>\n",
       "    </tr>\n",
       "  </thead>\n",
       "  <tbody>\n",
       "    <tr>\n",
       "      <th>1</th>\n",
       "      <td>Chattahoochee ›</td>\n",
       "      <td>54</td>\n",
       "    </tr>\n",
       "    <tr>\n",
       "      <th>2</th>\n",
       "      <td>Screven ›</td>\n",
       "      <td>26</td>\n",
       "    </tr>\n",
       "    <tr>\n",
       "      <th>3</th>\n",
       "      <td>Catoosa ›</td>\n",
       "      <td>22</td>\n",
       "    </tr>\n",
       "    <tr>\n",
       "      <th>4</th>\n",
       "      <td>Glynn ›</td>\n",
       "      <td>21</td>\n",
       "    </tr>\n",
       "    <tr>\n",
       "      <th>5</th>\n",
       "      <td>Henry ›</td>\n",
       "      <td>21</td>\n",
       "    </tr>\n",
       "  </tbody>\n",
       "</table>\n",
       "</div>"
      ],
      "text/plain": [
       "        Unnamed: 0 Per 100,000\n",
       "1  Chattahoochee ›          54\n",
       "2        Screven ›          26\n",
       "3        Catoosa ›          22\n",
       "4          Glynn ›          21\n",
       "5          Henry ›          21"
      ]
     },
     "execution_count": 482,
     "metadata": {},
     "output_type": "execute_result"
    }
   ],
   "source": [
    "casesdf.head()"
   ]
  },
  {
   "cell_type": "markdown",
   "metadata": {},
   "source": [
    "Change header to be more clear"
   ]
  },
  {
   "cell_type": "code",
   "execution_count": 483,
   "metadata": {},
   "outputs": [],
   "source": [
    "header={'0':['County','Cases per 100,000']}"
   ]
  },
  {
   "cell_type": "code",
   "execution_count": 484,
   "metadata": {},
   "outputs": [],
   "source": [
    "headerdf=pd.DataFrame(header)"
   ]
  },
  {
   "cell_type": "code",
   "execution_count": 485,
   "metadata": {},
   "outputs": [
    {
     "data": {
      "text/plain": [
       "0               County\n",
       "1    Cases per 100,000\n",
       "Name: 0, dtype: object"
      ]
     },
     "execution_count": 485,
     "metadata": {},
     "output_type": "execute_result"
    }
   ],
   "source": [
    "headerdf=headerdf.iloc[:,0]\n",
    "headerdf"
   ]
  },
  {
   "cell_type": "code",
   "execution_count": 486,
   "metadata": {},
   "outputs": [],
   "source": [
    "casesdf.columns=headerdf"
   ]
  },
  {
   "cell_type": "markdown",
   "metadata": {},
   "source": [
    "remove '> from county"
   ]
  },
  {
   "cell_type": "code",
   "execution_count": 487,
   "metadata": {},
   "outputs": [],
   "source": [
    "def lastchar(string):\n",
    "    return string[:-2]"
   ]
  },
  {
   "cell_type": "code",
   "execution_count": 488,
   "metadata": {},
   "outputs": [],
   "source": [
    "casesdf['County']=casesdf['County'].apply(lambda string:lastchar(string))"
   ]
  },
  {
   "cell_type": "code",
   "execution_count": 489,
   "metadata": {},
   "outputs": [
    {
     "name": "stdout",
     "output_type": "stream",
     "text": [
      "<class 'pandas.core.frame.DataFrame'>\n",
      "RangeIndex: 159 entries, 1 to 159\n",
      "Data columns (total 2 columns):\n",
      " #   Column             Non-Null Count  Dtype \n",
      "---  ------             --------------  ----- \n",
      " 0   County             159 non-null    object\n",
      " 1   Cases per 100,000  159 non-null    object\n",
      "dtypes: object(2)\n",
      "memory usage: 1.3+ KB\n"
     ]
    }
   ],
   "source": [
    "casesdf.info()"
   ]
  },
  {
   "cell_type": "code",
   "execution_count": null,
   "metadata": {},
   "outputs": [],
   "source": []
  },
  {
   "cell_type": "markdown",
   "metadata": {},
   "source": [
    "# Import population data for georgia counties to see if there is a link in cases per capita and population"
   ]
  },
  {
   "cell_type": "code",
   "execution_count": 490,
   "metadata": {},
   "outputs": [],
   "source": [
    "url='https://www.georgia-demographics.com/counties_by_population'"
   ]
  },
  {
   "cell_type": "code",
   "execution_count": 491,
   "metadata": {},
   "outputs": [],
   "source": [
    "dfpop = pd.read_html(url, header = 0)"
   ]
  },
  {
   "cell_type": "code",
   "execution_count": 492,
   "metadata": {},
   "outputs": [
    {
     "data": {
      "text/html": [
       "<div>\n",
       "<style scoped>\n",
       "    .dataframe tbody tr th:only-of-type {\n",
       "        vertical-align: middle;\n",
       "    }\n",
       "\n",
       "    .dataframe tbody tr th {\n",
       "        vertical-align: top;\n",
       "    }\n",
       "\n",
       "    .dataframe thead th {\n",
       "        text-align: right;\n",
       "    }\n",
       "</style>\n",
       "<table border=\"1\" class=\"dataframe\">\n",
       "  <thead>\n",
       "    <tr style=\"text-align: right;\">\n",
       "      <th></th>\n",
       "      <th>Rank</th>\n",
       "      <th>County</th>\n",
       "      <th>Population</th>\n",
       "    </tr>\n",
       "  </thead>\n",
       "  <tbody>\n",
       "    <tr>\n",
       "      <th>0</th>\n",
       "      <td>1</td>\n",
       "      <td>Fulton County</td>\n",
       "      <td>1036200</td>\n",
       "    </tr>\n",
       "    <tr>\n",
       "      <th>1</th>\n",
       "      <td>2</td>\n",
       "      <td>Gwinnett County</td>\n",
       "      <td>915046</td>\n",
       "    </tr>\n",
       "    <tr>\n",
       "      <th>2</th>\n",
       "      <td>3</td>\n",
       "      <td>Cobb County</td>\n",
       "      <td>751218</td>\n",
       "    </tr>\n",
       "  </tbody>\n",
       "</table>\n",
       "</div>"
      ],
      "text/plain": [
       "  Rank           County Population\n",
       "0    1    Fulton County    1036200\n",
       "1    2  Gwinnett County     915046\n",
       "2    3      Cobb County     751218"
      ]
     },
     "execution_count": 492,
     "metadata": {},
     "output_type": "execute_result"
    }
   ],
   "source": [
    "dfpop=dfpop[0]\n",
    "dfpop.head(3)"
   ]
  },
  {
   "cell_type": "markdown",
   "metadata": {},
   "source": [
    "There is one value imported that grabbed the footer of the table. Sort values by population to find index and drop that value"
   ]
  },
  {
   "cell_type": "code",
   "execution_count": 493,
   "metadata": {},
   "outputs": [
    {
     "data": {
      "text/html": [
       "<div>\n",
       "<style scoped>\n",
       "    .dataframe tbody tr th:only-of-type {\n",
       "        vertical-align: middle;\n",
       "    }\n",
       "\n",
       "    .dataframe tbody tr th {\n",
       "        vertical-align: top;\n",
       "    }\n",
       "\n",
       "    .dataframe thead th {\n",
       "        text-align: right;\n",
       "    }\n",
       "</style>\n",
       "<table border=\"1\" class=\"dataframe\">\n",
       "  <thead>\n",
       "    <tr style=\"text-align: right;\">\n",
       "      <th></th>\n",
       "      <th>Rank</th>\n",
       "      <th>County</th>\n",
       "      <th>Population</th>\n",
       "    </tr>\n",
       "  </thead>\n",
       "  <tbody>\n",
       "    <tr>\n",
       "      <th>125</th>\n",
       "      <td>126</td>\n",
       "      <td>Early County</td>\n",
       "      <td>10312</td>\n",
       "    </tr>\n",
       "    <tr>\n",
       "      <th>0</th>\n",
       "      <td>1</td>\n",
       "      <td>Fulton County</td>\n",
       "      <td>1036200</td>\n",
       "    </tr>\n",
       "    <tr>\n",
       "      <th>124</th>\n",
       "      <td>125</td>\n",
       "      <td>Lanier County</td>\n",
       "      <td>10380</td>\n",
       "    </tr>\n",
       "    <tr>\n",
       "      <th>24</th>\n",
       "      <td>25</td>\n",
       "      <td>Whitfield County</td>\n",
       "      <td>104237</td>\n",
       "    </tr>\n",
       "    <tr>\n",
       "      <th>23</th>\n",
       "      <td>24</td>\n",
       "      <td>Bartow County</td>\n",
       "      <td>104919</td>\n",
       "    </tr>\n",
       "    <tr>\n",
       "      <th>...</th>\n",
       "      <td>...</td>\n",
       "      <td>...</td>\n",
       "      <td>...</td>\n",
       "    </tr>\n",
       "    <tr>\n",
       "      <th>128</th>\n",
       "      <td>129</td>\n",
       "      <td>Irwin County</td>\n",
       "      <td>9320</td>\n",
       "    </tr>\n",
       "    <tr>\n",
       "      <th>127</th>\n",
       "      <td>128</td>\n",
       "      <td>Johnson County</td>\n",
       "      <td>9691</td>\n",
       "    </tr>\n",
       "    <tr>\n",
       "      <th>25</th>\n",
       "      <td>26</td>\n",
       "      <td>Floyd County</td>\n",
       "      <td>97369</td>\n",
       "    </tr>\n",
       "    <tr>\n",
       "      <th>126</th>\n",
       "      <td>127</td>\n",
       "      <td>Wilkes County</td>\n",
       "      <td>9844</td>\n",
       "    </tr>\n",
       "    <tr>\n",
       "      <th>159</th>\n",
       "      <td>United States Census Bureau. Annual Estimates ...</td>\n",
       "      <td>United States Census Bureau. Annual Estimates ...</td>\n",
       "      <td>United States Census Bureau. Annual Estimates ...</td>\n",
       "    </tr>\n",
       "  </tbody>\n",
       "</table>\n",
       "<p>160 rows × 3 columns</p>\n",
       "</div>"
      ],
      "text/plain": [
       "                                                  Rank  \\\n",
       "125                                                126   \n",
       "0                                                    1   \n",
       "124                                                125   \n",
       "24                                                  25   \n",
       "23                                                  24   \n",
       "..                                                 ...   \n",
       "128                                                129   \n",
       "127                                                128   \n",
       "25                                                  26   \n",
       "126                                                127   \n",
       "159  United States Census Bureau. Annual Estimates ...   \n",
       "\n",
       "                                                County  \\\n",
       "125                                       Early County   \n",
       "0                                        Fulton County   \n",
       "124                                      Lanier County   \n",
       "24                                    Whitfield County   \n",
       "23                                       Bartow County   \n",
       "..                                                 ...   \n",
       "128                                       Irwin County   \n",
       "127                                     Johnson County   \n",
       "25                                        Floyd County   \n",
       "126                                      Wilkes County   \n",
       "159  United States Census Bureau. Annual Estimates ...   \n",
       "\n",
       "                                            Population  \n",
       "125                                              10312  \n",
       "0                                              1036200  \n",
       "124                                              10380  \n",
       "24                                              104237  \n",
       "23                                              104919  \n",
       "..                                                 ...  \n",
       "128                                               9320  \n",
       "127                                               9691  \n",
       "25                                               97369  \n",
       "126                                               9844  \n",
       "159  United States Census Bureau. Annual Estimates ...  \n",
       "\n",
       "[160 rows x 3 columns]"
      ]
     },
     "execution_count": 493,
     "metadata": {},
     "output_type": "execute_result"
    }
   ],
   "source": [
    "dfpop.sort_values('Population')"
   ]
  },
  {
   "cell_type": "code",
   "execution_count": 494,
   "metadata": {},
   "outputs": [],
   "source": [
    "dfpop=dfpop.drop(159,axis=0) "
   ]
  },
  {
   "cell_type": "markdown",
   "metadata": {},
   "source": [
    "# Import Election Data"
   ]
  },
  {
   "cell_type": "code",
   "execution_count": 495,
   "metadata": {},
   "outputs": [],
   "source": [
    "url='https://www.politico.com/2020-election/results/georgia/'"
   ]
  },
  {
   "cell_type": "code",
   "execution_count": 496,
   "metadata": {},
   "outputs": [],
   "source": [
    "webD=wb.Chrome('chromedriver.exe')\n",
    "webD.get(url)"
   ]
  },
  {
   "cell_type": "code",
   "execution_count": 497,
   "metadata": {},
   "outputs": [],
   "source": [
    "#similar to county data, have to click \"see all 159 counties\" button on county results to get the county data"
   ]
  },
  {
   "cell_type": "code",
   "execution_count": 498,
   "metadata": {},
   "outputs": [],
   "source": [
    "button=webD.find_element_by_xpath('//*[@id=\"__next\"]/div[7]/div/div[1]/div[4]/div/div[2]/button')"
   ]
  },
  {
   "cell_type": "code",
   "execution_count": 499,
   "metadata": {},
   "outputs": [],
   "source": [
    "element=webD.find_element_by_xpath('//*[@id=\"__next\"]/div[7]/div/div[1]/div[4]/div/div[2]/button')"
   ]
  },
  {
   "cell_type": "code",
   "execution_count": 500,
   "metadata": {},
   "outputs": [],
   "source": [
    "try:\n",
    "    actions=ActionChains(webD)\n",
    "    actions.move_to_element(element).perform()\n",
    "    button.click()\n",
    "except:\n",
    "    print('Could not find button, try scrolling in NYtimes page until you see the \"show all\" button')"
   ]
  },
  {
   "cell_type": "code",
   "execution_count": 501,
   "metadata": {},
   "outputs": [],
   "source": [
    "#grab page source with open table\n",
    "html=webD.page_source"
   ]
  },
  {
   "cell_type": "code",
   "execution_count": 502,
   "metadata": {},
   "outputs": [],
   "source": [
    "df = pd.read_html(html, header = 0)"
   ]
  },
  {
   "cell_type": "code",
   "execution_count": 503,
   "metadata": {},
   "outputs": [
    {
     "data": {
      "text/plain": [
       "4"
      ]
     },
     "execution_count": 503,
     "metadata": {},
     "output_type": "execute_result"
    }
   ],
   "source": [
    "len(df)"
   ]
  },
  {
   "cell_type": "code",
   "execution_count": 504,
   "metadata": {},
   "outputs": [
    {
     "data": {
      "text/html": [
       "<div>\n",
       "<style scoped>\n",
       "    .dataframe tbody tr th:only-of-type {\n",
       "        vertical-align: middle;\n",
       "    }\n",
       "\n",
       "    .dataframe tbody tr th {\n",
       "        vertical-align: top;\n",
       "    }\n",
       "\n",
       "    .dataframe thead th {\n",
       "        text-align: right;\n",
       "    }\n",
       "</style>\n",
       "<table border=\"1\" class=\"dataframe\">\n",
       "  <thead>\n",
       "    <tr style=\"text-align: right;\">\n",
       "      <th></th>\n",
       "      <th>County</th>\n",
       "      <th>Biden votes</th>\n",
       "      <th>Biden pct</th>\n",
       "      <th>Trump votes</th>\n",
       "      <th>Trump pct</th>\n",
       "    </tr>\n",
       "  </thead>\n",
       "  <tbody>\n",
       "    <tr>\n",
       "      <th>0</th>\n",
       "      <td>Appling County</td>\n",
       "      <td>1784</td>\n",
       "      <td>21.3%</td>\n",
       "      <td>6570</td>\n",
       "      <td>78.3%</td>\n",
       "    </tr>\n",
       "    <tr>\n",
       "      <th>1</th>\n",
       "      <td>Atkinson County</td>\n",
       "      <td>825</td>\n",
       "      <td>26.1%</td>\n",
       "      <td>2300</td>\n",
       "      <td>72.9%</td>\n",
       "    </tr>\n",
       "    <tr>\n",
       "      <th>2</th>\n",
       "      <td>Bacon County</td>\n",
       "      <td>625</td>\n",
       "      <td>13.4%</td>\n",
       "      <td>4017</td>\n",
       "      <td>86.1%</td>\n",
       "    </tr>\n",
       "  </tbody>\n",
       "</table>\n",
       "</div>"
      ],
      "text/plain": [
       "            County  Biden votes Biden pct  Trump votes Trump pct\n",
       "0   Appling County         1784     21.3%         6570     78.3%\n",
       "1  Atkinson County          825     26.1%         2300     72.9%\n",
       "2     Bacon County          625     13.4%         4017     86.1%"
      ]
     },
     "execution_count": 504,
     "metadata": {},
     "output_type": "execute_result"
    }
   ],
   "source": [
    "dfelec=df[3]\n",
    "dfelec.head(3)"
   ]
  },
  {
   "cell_type": "markdown",
   "metadata": {},
   "source": [
    "As the # of votes don't mean much to us, remove these columns"
   ]
  },
  {
   "cell_type": "code",
   "execution_count": 505,
   "metadata": {},
   "outputs": [],
   "source": [
    "dfelec=dfelec.drop(['Biden votes','Trump votes'],axis=1)"
   ]
  },
  {
   "cell_type": "code",
   "execution_count": 506,
   "metadata": {},
   "outputs": [
    {
     "name": "stdout",
     "output_type": "stream",
     "text": [
      "<class 'pandas.core.frame.DataFrame'>\n",
      "RangeIndex: 159 entries, 0 to 158\n",
      "Data columns (total 3 columns):\n",
      " #   Column     Non-Null Count  Dtype \n",
      "---  ------     --------------  ----- \n",
      " 0   County     159 non-null    object\n",
      " 1   Biden pct  159 non-null    object\n",
      " 2   Trump pct  159 non-null    object\n",
      "dtypes: object(3)\n",
      "memory usage: 1.9+ KB\n"
     ]
    }
   ],
   "source": [
    "dfelec.info()"
   ]
  },
  {
   "cell_type": "markdown",
   "metadata": {},
   "source": [
    "convert pct to numbers (drop % sign)"
   ]
  },
  {
   "cell_type": "code",
   "execution_count": 507,
   "metadata": {},
   "outputs": [
    {
     "data": {
      "text/html": [
       "<div>\n",
       "<style scoped>\n",
       "    .dataframe tbody tr th:only-of-type {\n",
       "        vertical-align: middle;\n",
       "    }\n",
       "\n",
       "    .dataframe tbody tr th {\n",
       "        vertical-align: top;\n",
       "    }\n",
       "\n",
       "    .dataframe thead th {\n",
       "        text-align: right;\n",
       "    }\n",
       "</style>\n",
       "<table border=\"1\" class=\"dataframe\">\n",
       "  <thead>\n",
       "    <tr style=\"text-align: right;\">\n",
       "      <th></th>\n",
       "      <th>County</th>\n",
       "      <th>Biden pct</th>\n",
       "      <th>Trump pct</th>\n",
       "    </tr>\n",
       "  </thead>\n",
       "  <tbody>\n",
       "    <tr>\n",
       "      <th>0</th>\n",
       "      <td>Appling County</td>\n",
       "      <td>21.3</td>\n",
       "      <td>78.3</td>\n",
       "    </tr>\n",
       "    <tr>\n",
       "      <th>1</th>\n",
       "      <td>Atkinson County</td>\n",
       "      <td>26.1</td>\n",
       "      <td>72.9</td>\n",
       "    </tr>\n",
       "    <tr>\n",
       "      <th>2</th>\n",
       "      <td>Bacon County</td>\n",
       "      <td>13.4</td>\n",
       "      <td>86.1</td>\n",
       "    </tr>\n",
       "    <tr>\n",
       "      <th>3</th>\n",
       "      <td>Baker County</td>\n",
       "      <td>41.9</td>\n",
       "      <td>57.7</td>\n",
       "    </tr>\n",
       "    <tr>\n",
       "      <th>4</th>\n",
       "      <td>Baldwin County</td>\n",
       "      <td>50.1</td>\n",
       "      <td>48.8</td>\n",
       "    </tr>\n",
       "  </tbody>\n",
       "</table>\n",
       "</div>"
      ],
      "text/plain": [
       "            County  Biden pct  Trump pct\n",
       "0   Appling County       21.3       78.3\n",
       "1  Atkinson County       26.1       72.9\n",
       "2     Bacon County       13.4       86.1\n",
       "3     Baker County       41.9       57.7\n",
       "4   Baldwin County       50.1       48.8"
      ]
     },
     "execution_count": 507,
     "metadata": {},
     "output_type": "execute_result"
    }
   ],
   "source": [
    "dfelec['Biden pct']=dfelec['Biden pct'].apply(lambda x:x[:-1]).astype(float)\n",
    "dfelec['Trump pct']=dfelec['Trump pct'].apply(lambda x:x[:-1]).astype(float)\n",
    "dfelec.head()"
   ]
  },
  {
   "cell_type": "markdown",
   "metadata": {},
   "source": [
    "Create an other category (third part presumably)"
   ]
  },
  {
   "cell_type": "code",
   "execution_count": 508,
   "metadata": {},
   "outputs": [],
   "source": [
    "dfelec['Third Party']=100-dfelec['Trump pct']-dfelec['Biden pct']"
   ]
  },
  {
   "cell_type": "code",
   "execution_count": 509,
   "metadata": {},
   "outputs": [
    {
     "data": {
      "text/html": [
       "<div>\n",
       "<style scoped>\n",
       "    .dataframe tbody tr th:only-of-type {\n",
       "        vertical-align: middle;\n",
       "    }\n",
       "\n",
       "    .dataframe tbody tr th {\n",
       "        vertical-align: top;\n",
       "    }\n",
       "\n",
       "    .dataframe thead th {\n",
       "        text-align: right;\n",
       "    }\n",
       "</style>\n",
       "<table border=\"1\" class=\"dataframe\">\n",
       "  <thead>\n",
       "    <tr style=\"text-align: right;\">\n",
       "      <th></th>\n",
       "      <th>County</th>\n",
       "      <th>Biden pct</th>\n",
       "      <th>Trump pct</th>\n",
       "      <th>Third Party</th>\n",
       "    </tr>\n",
       "  </thead>\n",
       "  <tbody>\n",
       "    <tr>\n",
       "      <th>25</th>\n",
       "      <td>Chattahoochee County</td>\n",
       "      <td>42.2</td>\n",
       "      <td>55.6</td>\n",
       "      <td>2.2</td>\n",
       "    </tr>\n",
       "  </tbody>\n",
       "</table>\n",
       "</div>"
      ],
      "text/plain": [
       "                  County  Biden pct  Trump pct  Third Party\n",
       "25  Chattahoochee County       42.2       55.6          2.2"
      ]
     },
     "execution_count": 509,
     "metadata": {},
     "output_type": "execute_result"
    }
   ],
   "source": [
    "dfelec[dfelec['Third Party']==dfelec['Third Party'].max()]"
   ]
  },
  {
   "cell_type": "markdown",
   "metadata": {},
   "source": [
    "Create a categorical column for winnner"
   ]
  },
  {
   "cell_type": "code",
   "execution_count": 510,
   "metadata": {},
   "outputs": [],
   "source": [
    "def winner(x):\n",
    "    if x>50:\n",
    "        return 'Biden'\n",
    "    else:\n",
    "        return 'Trump'"
   ]
  },
  {
   "cell_type": "code",
   "execution_count": 513,
   "metadata": {},
   "outputs": [],
   "source": [
    "dfelec['Winner']=dfelec['Biden pct'].apply(lambda x: winner(x))"
   ]
  },
  {
   "cell_type": "code",
   "execution_count": 514,
   "metadata": {},
   "outputs": [
    {
     "data": {
      "text/html": [
       "<div>\n",
       "<style scoped>\n",
       "    .dataframe tbody tr th:only-of-type {\n",
       "        vertical-align: middle;\n",
       "    }\n",
       "\n",
       "    .dataframe tbody tr th {\n",
       "        vertical-align: top;\n",
       "    }\n",
       "\n",
       "    .dataframe thead th {\n",
       "        text-align: right;\n",
       "    }\n",
       "</style>\n",
       "<table border=\"1\" class=\"dataframe\">\n",
       "  <thead>\n",
       "    <tr style=\"text-align: right;\">\n",
       "      <th></th>\n",
       "      <th>County</th>\n",
       "      <th>Biden pct</th>\n",
       "      <th>Trump pct</th>\n",
       "      <th>Third Party</th>\n",
       "      <th>Winner</th>\n",
       "    </tr>\n",
       "  </thead>\n",
       "  <tbody>\n",
       "    <tr>\n",
       "      <th>0</th>\n",
       "      <td>Appling County</td>\n",
       "      <td>21.3</td>\n",
       "      <td>78.3</td>\n",
       "      <td>0.4</td>\n",
       "      <td>Trump</td>\n",
       "    </tr>\n",
       "    <tr>\n",
       "      <th>1</th>\n",
       "      <td>Atkinson County</td>\n",
       "      <td>26.1</td>\n",
       "      <td>72.9</td>\n",
       "      <td>1.0</td>\n",
       "      <td>Trump</td>\n",
       "    </tr>\n",
       "    <tr>\n",
       "      <th>2</th>\n",
       "      <td>Bacon County</td>\n",
       "      <td>13.4</td>\n",
       "      <td>86.1</td>\n",
       "      <td>0.5</td>\n",
       "      <td>Trump</td>\n",
       "    </tr>\n",
       "    <tr>\n",
       "      <th>3</th>\n",
       "      <td>Baker County</td>\n",
       "      <td>41.9</td>\n",
       "      <td>57.7</td>\n",
       "      <td>0.4</td>\n",
       "      <td>Trump</td>\n",
       "    </tr>\n",
       "    <tr>\n",
       "      <th>4</th>\n",
       "      <td>Baldwin County</td>\n",
       "      <td>50.1</td>\n",
       "      <td>48.8</td>\n",
       "      <td>1.1</td>\n",
       "      <td>Biden</td>\n",
       "    </tr>\n",
       "  </tbody>\n",
       "</table>\n",
       "</div>"
      ],
      "text/plain": [
       "            County  Biden pct  Trump pct  Third Party Winner\n",
       "0   Appling County       21.3       78.3          0.4  Trump\n",
       "1  Atkinson County       26.1       72.9          1.0  Trump\n",
       "2     Bacon County       13.4       86.1          0.5  Trump\n",
       "3     Baker County       41.9       57.7          0.4  Trump\n",
       "4   Baldwin County       50.1       48.8          1.1  Biden"
      ]
     },
     "execution_count": 514,
     "metadata": {},
     "output_type": "execute_result"
    }
   ],
   "source": [
    "dfelec.head(5)"
   ]
  },
  {
   "cell_type": "code",
   "execution_count": 516,
   "metadata": {},
   "outputs": [
    {
     "data": {
      "text/plain": [
       "Trump    130\n",
       "Biden     29\n",
       "Name: Winner, dtype: int64"
      ]
     },
     "execution_count": 516,
     "metadata": {},
     "output_type": "execute_result"
    }
   ],
   "source": [
    "dfelec['Winner'].value_counts()"
   ]
  },
  {
   "cell_type": "code",
   "execution_count": null,
   "metadata": {},
   "outputs": [],
   "source": []
  },
  {
   "cell_type": "markdown",
   "metadata": {},
   "source": [
    "# Combine election dataframes, population dataframe, and cases dataframe"
   ]
  },
  {
   "cell_type": "markdown",
   "metadata": {},
   "source": [
    "First we need to sort all by county alphabetically"
   ]
  },
  {
   "cell_type": "code",
   "execution_count": 517,
   "metadata": {},
   "outputs": [],
   "source": [
    "casesdf=casesdf.sort_values('County')\n",
    "casesdf=casesdf.reset_index(drop=True)"
   ]
  },
  {
   "cell_type": "code",
   "execution_count": 518,
   "metadata": {},
   "outputs": [],
   "source": [
    "dfpop=dfpop.sort_values('County')\n",
    "dfpop=dfpop.reset_index(drop=True)"
   ]
  },
  {
   "cell_type": "code",
   "execution_count": 519,
   "metadata": {},
   "outputs": [],
   "source": [
    "dfelec=dfelec.sort_values('County')\n",
    "dfelec=dfelec.reset_index(drop=True)"
   ]
  },
  {
   "cell_type": "code",
   "execution_count": 520,
   "metadata": {},
   "outputs": [
    {
     "data": {
      "text/html": [
       "<div>\n",
       "<style scoped>\n",
       "    .dataframe tbody tr th:only-of-type {\n",
       "        vertical-align: middle;\n",
       "    }\n",
       "\n",
       "    .dataframe tbody tr th {\n",
       "        vertical-align: top;\n",
       "    }\n",
       "\n",
       "    .dataframe thead th {\n",
       "        text-align: right;\n",
       "    }\n",
       "</style>\n",
       "<table border=\"1\" class=\"dataframe\">\n",
       "  <thead>\n",
       "    <tr style=\"text-align: right;\">\n",
       "      <th></th>\n",
       "      <th>Rank</th>\n",
       "      <th>Population</th>\n",
       "    </tr>\n",
       "  </thead>\n",
       "  <tbody>\n",
       "    <tr>\n",
       "      <th>0</th>\n",
       "      <td>98</td>\n",
       "      <td>18440</td>\n",
       "    </tr>\n",
       "    <tr>\n",
       "      <th>1</th>\n",
       "      <td>138</td>\n",
       "      <td>8239</td>\n",
       "    </tr>\n",
       "    <tr>\n",
       "      <th>2</th>\n",
       "      <td>121</td>\n",
       "      <td>11201</td>\n",
       "    </tr>\n",
       "    <tr>\n",
       "      <th>3</th>\n",
       "      <td>154</td>\n",
       "      <td>3132</td>\n",
       "    </tr>\n",
       "    <tr>\n",
       "      <th>4</th>\n",
       "      <td>44</td>\n",
       "      <td>45111</td>\n",
       "    </tr>\n",
       "    <tr>\n",
       "      <th>...</th>\n",
       "      <td>...</td>\n",
       "      <td>...</td>\n",
       "    </tr>\n",
       "    <tr>\n",
       "      <th>154</th>\n",
       "      <td>25</td>\n",
       "      <td>104237</td>\n",
       "    </tr>\n",
       "    <tr>\n",
       "      <th>155</th>\n",
       "      <td>132</td>\n",
       "      <td>8824</td>\n",
       "    </tr>\n",
       "    <tr>\n",
       "      <th>156</th>\n",
       "      <td>127</td>\n",
       "      <td>9844</td>\n",
       "    </tr>\n",
       "    <tr>\n",
       "      <th>157</th>\n",
       "      <td>131</td>\n",
       "      <td>9010</td>\n",
       "    </tr>\n",
       "    <tr>\n",
       "      <th>158</th>\n",
       "      <td>88</td>\n",
       "      <td>20494</td>\n",
       "    </tr>\n",
       "  </tbody>\n",
       "</table>\n",
       "<p>159 rows × 2 columns</p>\n",
       "</div>"
      ],
      "text/plain": [
       "    Rank Population\n",
       "0     98      18440\n",
       "1    138       8239\n",
       "2    121      11201\n",
       "3    154       3132\n",
       "4     44      45111\n",
       "..   ...        ...\n",
       "154   25     104237\n",
       "155  132       8824\n",
       "156  127       9844\n",
       "157  131       9010\n",
       "158   88      20494\n",
       "\n",
       "[159 rows x 2 columns]"
      ]
     },
     "execution_count": 520,
     "metadata": {},
     "output_type": "execute_result"
    }
   ],
   "source": [
    "#drop the extraneous county columns\n",
    "dfpop=dfpop.drop('County',axis=1)\n",
    "dfelec=dfelec.drop('County',axis=1)"
   ]
  },
  {
   "cell_type": "code",
   "execution_count": null,
   "metadata": {},
   "outputs": [],
   "source": []
  },
  {
   "cell_type": "code",
   "execution_count": 521,
   "metadata": {},
   "outputs": [
    {
     "data": {
      "text/html": [
       "<div>\n",
       "<style scoped>\n",
       "    .dataframe tbody tr th:only-of-type {\n",
       "        vertical-align: middle;\n",
       "    }\n",
       "\n",
       "    .dataframe tbody tr th {\n",
       "        vertical-align: top;\n",
       "    }\n",
       "\n",
       "    .dataframe thead th {\n",
       "        text-align: right;\n",
       "    }\n",
       "</style>\n",
       "<table border=\"1\" class=\"dataframe\">\n",
       "  <thead>\n",
       "    <tr style=\"text-align: right;\">\n",
       "      <th></th>\n",
       "      <th>County</th>\n",
       "      <th>Cases per 100,000</th>\n",
       "      <th>Rank</th>\n",
       "      <th>Population</th>\n",
       "      <th>Biden pct</th>\n",
       "      <th>Trump pct</th>\n",
       "      <th>Third Party</th>\n",
       "      <th>Winner</th>\n",
       "    </tr>\n",
       "  </thead>\n",
       "  <tbody>\n",
       "    <tr>\n",
       "      <th>0</th>\n",
       "      <td>Appling</td>\n",
       "      <td>9</td>\n",
       "      <td>98</td>\n",
       "      <td>18440</td>\n",
       "      <td>21.3</td>\n",
       "      <td>78.3</td>\n",
       "      <td>0.4</td>\n",
       "      <td>Trump</td>\n",
       "    </tr>\n",
       "    <tr>\n",
       "      <th>1</th>\n",
       "      <td>Atkinson</td>\n",
       "      <td>3</td>\n",
       "      <td>138</td>\n",
       "      <td>8239</td>\n",
       "      <td>26.1</td>\n",
       "      <td>72.9</td>\n",
       "      <td>1.0</td>\n",
       "      <td>Trump</td>\n",
       "    </tr>\n",
       "    <tr>\n",
       "      <th>2</th>\n",
       "      <td>Bacon</td>\n",
       "      <td>9</td>\n",
       "      <td>121</td>\n",
       "      <td>11201</td>\n",
       "      <td>13.4</td>\n",
       "      <td>86.1</td>\n",
       "      <td>0.5</td>\n",
       "      <td>Trump</td>\n",
       "    </tr>\n",
       "  </tbody>\n",
       "</table>\n",
       "</div>"
      ],
      "text/plain": [
       "     County Cases per 100,000 Rank Population  Biden pct  Trump pct  \\\n",
       "0   Appling                 9   98      18440       21.3       78.3   \n",
       "1  Atkinson                 3  138       8239       26.1       72.9   \n",
       "2     Bacon                 9  121      11201       13.4       86.1   \n",
       "\n",
       "   Third Party Winner  \n",
       "0          0.4  Trump  \n",
       "1          1.0  Trump  \n",
       "2          0.5  Trump  "
      ]
     },
     "execution_count": 521,
     "metadata": {},
     "output_type": "execute_result"
    }
   ],
   "source": [
    "#comparison df\n",
    "df=pd.concat([casesdf,dfpop,dfelec],axis=1)\n",
    "df.head(3)"
   ]
  },
  {
   "cell_type": "code",
   "execution_count": null,
   "metadata": {},
   "outputs": [],
   "source": []
  },
  {
   "cell_type": "code",
   "execution_count": null,
   "metadata": {},
   "outputs": [],
   "source": []
  },
  {
   "cell_type": "markdown",
   "metadata": {},
   "source": [
    "# Find missing data"
   ]
  },
  {
   "cell_type": "code",
   "execution_count": 522,
   "metadata": {},
   "outputs": [
    {
     "name": "stdout",
     "output_type": "stream",
     "text": [
      "False    159\n",
      "Name: County, dtype: int64\n",
      "False    159\n",
      "Name: Cases per 100,000, dtype: int64\n",
      "False    159\n",
      "Name: Rank, dtype: int64\n",
      "False    159\n",
      "Name: Population, dtype: int64\n",
      "False    159\n",
      "Name: Biden pct, dtype: int64\n",
      "False    159\n",
      "Name: Trump pct, dtype: int64\n",
      "False    159\n",
      "Name: Third Party, dtype: int64\n",
      "False    159\n",
      "Name: Winner, dtype: int64\n"
     ]
    }
   ],
   "source": [
    "for col in df.columns:\n",
    "    print(df.isnull()[col].value_counts())"
   ]
  },
  {
   "cell_type": "markdown",
   "metadata": {},
   "source": [
    "Missing data is represented as \"—\""
   ]
  },
  {
   "cell_type": "code",
   "execution_count": 523,
   "metadata": {
    "scrolled": false
   },
   "outputs": [
    {
     "name": "stdout",
     "output_type": "stream",
     "text": [
      "Cases per 100,000: 6\n"
     ]
    },
    {
     "name": "stderr",
     "output_type": "stream",
     "text": [
      "C:\\Users\\allis\\anaconda3\\lib\\site-packages\\pandas\\core\\ops\\array_ops.py:253: FutureWarning: elementwise comparison failed; returning scalar instead, but in the future will perform elementwise comparison\n",
      "  res_values = method(rvalues)\n"
     ]
    }
   ],
   "source": [
    "for col in df.columns:\n",
    "    x=0\n",
    "    x=len(df[df[col]=='—'])\n",
    "    if x!=0:\n",
    "        print(col + \": \"+ str(x))"
   ]
  },
  {
   "cell_type": "code",
   "execution_count": 524,
   "metadata": {},
   "outputs": [],
   "source": [
    "def tona(x):\n",
    "    if x=='—':\n",
    "        return None\n",
    "    else:\n",
    "        return x"
   ]
  },
  {
   "cell_type": "code",
   "execution_count": 525,
   "metadata": {},
   "outputs": [],
   "source": [
    "df['Cases per 100,000']=df['Cases per 100,000'].apply(lambda x:tona (x))"
   ]
  },
  {
   "cell_type": "code",
   "execution_count": 526,
   "metadata": {},
   "outputs": [],
   "source": [
    "df=df.dropna(axis=0)"
   ]
  },
  {
   "cell_type": "code",
   "execution_count": 527,
   "metadata": {},
   "outputs": [
    {
     "name": "stdout",
     "output_type": "stream",
     "text": [
      "<class 'pandas.core.frame.DataFrame'>\n",
      "Int64Index: 153 entries, 0 to 158\n",
      "Data columns (total 8 columns):\n",
      " #   Column             Non-Null Count  Dtype  \n",
      "---  ------             --------------  -----  \n",
      " 0   County             153 non-null    object \n",
      " 1   Cases per 100,000  153 non-null    object \n",
      " 2   Rank               153 non-null    object \n",
      " 3   Population         153 non-null    object \n",
      " 4   Biden pct          153 non-null    float64\n",
      " 5   Trump pct          153 non-null    float64\n",
      " 6   Third Party        153 non-null    float64\n",
      " 7   Winner             153 non-null    object \n",
      "dtypes: float64(3), object(5)\n",
      "memory usage: 7.8+ KB\n"
     ]
    }
   ],
   "source": [
    "df.info()"
   ]
  },
  {
   "cell_type": "markdown",
   "metadata": {},
   "source": [
    "Now that all missing data is gone, we can conver cases per 100,000, rank, and population to integer types"
   ]
  },
  {
   "cell_type": "code",
   "execution_count": 528,
   "metadata": {},
   "outputs": [],
   "source": [
    "df['Cases per 100,000']=df['Cases per 100,000'].astype(int)\n",
    "df['Rank']=df['Rank'].astype(int)\n",
    "df['Population']=df['Population'].astype(int)"
   ]
  },
  {
   "cell_type": "code",
   "execution_count": 529,
   "metadata": {},
   "outputs": [
    {
     "name": "stdout",
     "output_type": "stream",
     "text": [
      "<class 'pandas.core.frame.DataFrame'>\n",
      "Int64Index: 153 entries, 0 to 158\n",
      "Data columns (total 8 columns):\n",
      " #   Column             Non-Null Count  Dtype  \n",
      "---  ------             --------------  -----  \n",
      " 0   County             153 non-null    object \n",
      " 1   Cases per 100,000  153 non-null    int32  \n",
      " 2   Rank               153 non-null    int32  \n",
      " 3   Population         153 non-null    int32  \n",
      " 4   Biden pct          153 non-null    float64\n",
      " 5   Trump pct          153 non-null    float64\n",
      " 6   Third Party        153 non-null    float64\n",
      " 7   Winner             153 non-null    object \n",
      "dtypes: float64(3), int32(3), object(2)\n",
      "memory usage: 7.8+ KB\n"
     ]
    }
   ],
   "source": [
    "df.info()"
   ]
  },
  {
   "cell_type": "code",
   "execution_count": 530,
   "metadata": {},
   "outputs": [
    {
     "data": {
      "text/plain": [
       "Rank          -0.270139\n",
       "Trump pct     -0.071465\n",
       "Biden pct      0.064047\n",
       "Population     0.192465\n",
       "Third Party    0.318188\n",
       "Name: Cases per 100,000, dtype: float64"
      ]
     },
     "execution_count": 530,
     "metadata": {},
     "output_type": "execute_result"
    }
   ],
   "source": [
    "df.corr()['Cases per 100,000'].sort_values()[:-1]"
   ]
  },
  {
   "cell_type": "markdown",
   "metadata": {},
   "source": [
    "# Data Visualization"
   ]
  },
  {
   "cell_type": "code",
   "execution_count": 531,
   "metadata": {},
   "outputs": [],
   "source": [
    "import matplotlib.pyplot as plt\n",
    "import seaborn as sns\n",
    "%matplotlib inline"
   ]
  },
  {
   "cell_type": "code",
   "execution_count": 532,
   "metadata": {},
   "outputs": [
    {
     "data": {
      "text/plain": [
       "<seaborn.axisgrid.FacetGrid at 0xa94c388>"
      ]
     },
     "execution_count": 532,
     "metadata": {},
     "output_type": "execute_result"
    },
    {
     "data": {
      "image/png": "[encoded data removed]",
      "text/plain": [
       "<Figure size 360x360 with 1 Axes>"
      ]
     },
     "metadata": {
      "needs_background": "light"
     },
     "output_type": "display_data"
    }
   ],
   "source": [
    "sns.lmplot(x='Population',y='Cases per 100,000',data=df)"
   ]
  },
  {
   "cell_type": "markdown",
   "metadata": {},
   "source": [
    "Seems there are some high outliercases both for population and cases per 100,000, lets trim those out"
   ]
  },
  {
   "cell_type": "code",
   "execution_count": 536,
   "metadata": {},
   "outputs": [
    {
     "data": {
      "text/html": [
       "<div>\n",
       "<style scoped>\n",
       "    .dataframe tbody tr th:only-of-type {\n",
       "        vertical-align: middle;\n",
       "    }\n",
       "\n",
       "    .dataframe tbody tr th {\n",
       "        vertical-align: top;\n",
       "    }\n",
       "\n",
       "    .dataframe thead th {\n",
       "        text-align: right;\n",
       "    }\n",
       "</style>\n",
       "<table border=\"1\" class=\"dataframe\">\n",
       "  <thead>\n",
       "    <tr style=\"text-align: right;\">\n",
       "      <th></th>\n",
       "      <th>County</th>\n",
       "      <th>Cases per 100,000</th>\n",
       "      <th>Rank</th>\n",
       "      <th>Population</th>\n",
       "      <th>Biden pct</th>\n",
       "      <th>Trump pct</th>\n",
       "      <th>Third Party</th>\n",
       "      <th>Winner</th>\n",
       "    </tr>\n",
       "  </thead>\n",
       "  <tbody>\n",
       "    <tr>\n",
       "      <th>123</th>\n",
       "      <td>Screven</td>\n",
       "      <td>26</td>\n",
       "      <td>111</td>\n",
       "      <td>13989</td>\n",
       "      <td>40.2</td>\n",
       "      <td>59.1</td>\n",
       "      <td>0.7</td>\n",
       "      <td>Trump</td>\n",
       "    </tr>\n",
       "  </tbody>\n",
       "</table>\n",
       "</div>"
      ],
      "text/plain": [
       "      County  Cases per 100,000  Rank  Population  Biden pct  Trump pct  \\\n",
       "123  Screven                 26   111       13989       40.2       59.1   \n",
       "\n",
       "     Third Party Winner  \n",
       "123          0.7  Trump  "
      ]
     },
     "execution_count": 536,
     "metadata": {},
     "output_type": "execute_result"
    }
   ],
   "source": [
    "dftrimmed=dftrimmed.sort_values('Cases per 100,000',ascending=False)[1:]\n",
    "dftrimmed.head(1)"
   ]
  },
  {
   "cell_type": "code",
   "execution_count": 537,
   "metadata": {},
   "outputs": [],
   "source": [
    "dftrimmedPop=dftrimmed.sort_values('Population',ascending=False)[10:]"
   ]
  },
  {
   "cell_type": "code",
   "execution_count": 538,
   "metadata": {},
   "outputs": [
    {
     "data": {
      "text/plain": [
       "<seaborn.axisgrid.FacetGrid at 0xbdfdc70>"
      ]
     },
     "execution_count": 538,
     "metadata": {},
     "output_type": "execute_result"
    },
    {
     "data": {
      "image/png": "[encoded data removed]",
      "text/plain": [
       "<Figure size 360x360 with 1 Axes>"
      ]
     },
     "metadata": {
      "needs_background": "light"
     },
     "output_type": "display_data"
    }
   ],
   "source": [
    "sns.lmplot(x='Population',y='Cases per 100,000',data=dftrimmedPop)"
   ]
  },
  {
   "cell_type": "code",
   "execution_count": 539,
   "metadata": {},
   "outputs": [
    {
     "data": {
      "text/plain": [
       "<seaborn.axisgrid.FacetGrid at 0xbe26268>"
      ]
     },
     "execution_count": 539,
     "metadata": {},
     "output_type": "execute_result"
    },
    {
     "data": {
      "image/png": "[encoded data removed]",
      "text/plain": [
       "<Figure size 360x360 with 1 Axes>"
      ]
     },
     "metadata": {
      "needs_background": "light"
     },
     "output_type": "display_data"
    }
   ],
   "source": [
    "sns.lmplot(x='Third Party',y='Cases per 100,000',data=dftrimmed) #automatically exclude high cases county"
   ]
  },
  {
   "cell_type": "markdown",
   "metadata": {},
   "source": [
    "Compare Biden vs Trump"
   ]
  },
  {
   "cell_type": "code",
   "execution_count": 542,
   "metadata": {},
   "outputs": [
    {
     "data": {
      "text/plain": [
       "<matplotlib.axes._subplots.AxesSubplot at 0xf574fd0>"
      ]
     },
     "execution_count": 542,
     "metadata": {},
     "output_type": "execute_result"
    },
    {
     "data": {
      "image/png": "[encoded data removed]",
      "text/plain": [
       "<Figure size 432x288 with 1 Axes>"
      ]
     },
     "metadata": {
      "needs_background": "light"
     },
     "output_type": "display_data"
    }
   ],
   "source": [
    "sns.boxplot(x='Winner',y='Cases per 100,000',data=dftrimmed)"
   ]
  },
  {
   "cell_type": "code",
   "execution_count": null,
   "metadata": {},
   "outputs": [],
   "source": []
  },
  {
   "cell_type": "code",
   "execution_count": null,
   "metadata": {},
   "outputs": [],
   "source": []
  }
 ],
 "metadata": {
  "kernelspec": {
   "display_name": "Python 3",
   "language": "python",
   "name": "python3"
  },
  "language_info": {
   "codemirror_mode": {
    "name": "ipython",
    "version": 3
   },
   "file_extension": ".py",
   "mimetype": "text/x-python",
   "name": "python",
   "nbconvert_exporter": "python",
   "pygments_lexer": "ipython3",
   "version": "3.8.3"
  }
 },
 "nbformat": 4,
 "nbformat_minor": 4
}
